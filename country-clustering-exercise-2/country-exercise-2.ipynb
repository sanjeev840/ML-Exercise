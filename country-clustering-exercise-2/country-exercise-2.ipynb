{
 "cells": [
  {
   "cell_type": "code",
   "execution_count": 1,
   "id": "f2ab671f",
   "metadata": {
    "_cell_guid": "b1076dfc-b9ad-4769-8c92-a6c4dae69d19",
    "_uuid": "8f2839f25d086af736a60e9eeb907d3b93b6e0e5",
    "execution": {
     "iopub.execute_input": "2025-08-31T14:18:08.486621Z",
     "iopub.status.busy": "2025-08-31T14:18:08.486311Z",
     "iopub.status.idle": "2025-08-31T14:18:10.278529Z",
     "shell.execute_reply": "2025-08-31T14:18:10.277510Z"
    },
    "papermill": {
     "duration": 1.798913,
     "end_time": "2025-08-31T14:18:10.280007",
     "exception": false,
     "start_time": "2025-08-31T14:18:08.481094",
     "status": "completed"
    },
    "tags": []
   },
   "outputs": [
    {
     "name": "stdout",
     "output_type": "stream",
     "text": [
      "/kaggle/input/country-exercise-csv/Countries-exercise.csv\n"
     ]
    }
   ],
   "source": [
    "# This Python 3 environment comes with many helpful analytics libraries installed\n",
    "# It is defined by the kaggle/python Docker image: https://github.com/kaggle/docker-python\n",
    "# For example, here's several helpful packages to load\n",
    "\n",
    "import numpy as np # linear algebra\n",
    "import pandas as pd # data processing, CSV file I/O (e.g. pd.read_csv)\n",
    "\n",
    "# Input data files are available in the read-only \"../input/\" directory\n",
    "# For example, running this (by clicking run or pressing Shift+Enter) will list all files under the input directory\n",
    "\n",
    "import os\n",
    "for dirname, _, filenames in os.walk('/kaggle/input'):\n",
    "    for filename in filenames:\n",
    "        print(os.path.join(dirname, filename))\n",
    "\n",
    "# You can write up to 20GB to the current directory (/kaggle/working/) that gets preserved as output when you create a version using \"Save & Run All\" \n",
    "# You can also write temporary files to /kaggle/temp/, but they won't be saved outside of the current session"
   ]
  },
  {
   "cell_type": "markdown",
   "id": "3b1b4df4",
   "metadata": {
    "papermill": {
     "duration": 0.003366,
     "end_time": "2025-08-31T14:18:10.287988",
     "exception": false,
     "start_time": "2025-08-31T14:18:10.284622",
     "status": "completed"
    },
    "tags": []
   },
   "source": [
    "# import the libraries"
   ]
  },
  {
   "cell_type": "code",
   "execution_count": 2,
   "id": "0df7b290",
   "metadata": {
    "execution": {
     "iopub.execute_input": "2025-08-31T14:18:10.295823Z",
     "iopub.status.busy": "2025-08-31T14:18:10.295343Z",
     "iopub.status.idle": "2025-08-31T14:18:12.777127Z",
     "shell.execute_reply": "2025-08-31T14:18:12.776369Z"
    },
    "papermill": {
     "duration": 2.487459,
     "end_time": "2025-08-31T14:18:12.778752",
     "exception": false,
     "start_time": "2025-08-31T14:18:10.291293",
     "status": "completed"
    },
    "tags": []
   },
   "outputs": [],
   "source": [
    "import numpy as np\n",
    "import pandas as pd\n",
    "import matplotlib.pyplot as plt\n",
    "import seaborn as sns\n",
    "from sklearn.cluster import KMeans"
   ]
  },
  {
   "cell_type": "markdown",
   "id": "4ddbc885",
   "metadata": {
    "papermill": {
     "duration": 0.002931,
     "end_time": "2025-08-31T14:18:12.785045",
     "exception": false,
     "start_time": "2025-08-31T14:18:12.782114",
     "status": "completed"
    },
    "tags": []
   },
   "source": [
    "# Load the data"
   ]
  },
  {
   "cell_type": "code",
   "execution_count": 3,
   "id": "536203f1",
   "metadata": {
    "execution": {
     "iopub.execute_input": "2025-08-31T14:18:12.792330Z",
     "iopub.status.busy": "2025-08-31T14:18:12.791918Z",
     "iopub.status.idle": "2025-08-31T14:18:12.832010Z",
     "shell.execute_reply": "2025-08-31T14:18:12.831191Z"
    },
    "papermill": {
     "duration": 0.045176,
     "end_time": "2025-08-31T14:18:12.833322",
     "exception": false,
     "start_time": "2025-08-31T14:18:12.788146",
     "status": "completed"
    },
    "tags": []
   },
   "outputs": [
    {
     "data": {
      "text/html": [
       "<div>\n",
       "<style scoped>\n",
       "    .dataframe tbody tr th:only-of-type {\n",
       "        vertical-align: middle;\n",
       "    }\n",
       "\n",
       "    .dataframe tbody tr th {\n",
       "        vertical-align: top;\n",
       "    }\n",
       "\n",
       "    .dataframe thead th {\n",
       "        text-align: right;\n",
       "    }\n",
       "</style>\n",
       "<table border=\"1\" class=\"dataframe\">\n",
       "  <thead>\n",
       "    <tr style=\"text-align: right;\">\n",
       "      <th></th>\n",
       "      <th>name</th>\n",
       "      <th>Longitude</th>\n",
       "      <th>Latitude</th>\n",
       "    </tr>\n",
       "  </thead>\n",
       "  <tbody>\n",
       "    <tr>\n",
       "      <th>0</th>\n",
       "      <td>Aruba</td>\n",
       "      <td>-69.982677</td>\n",
       "      <td>12.520880</td>\n",
       "    </tr>\n",
       "    <tr>\n",
       "      <th>1</th>\n",
       "      <td>Afghanistan</td>\n",
       "      <td>66.004734</td>\n",
       "      <td>33.835231</td>\n",
       "    </tr>\n",
       "    <tr>\n",
       "      <th>2</th>\n",
       "      <td>Angola</td>\n",
       "      <td>17.537368</td>\n",
       "      <td>-12.293361</td>\n",
       "    </tr>\n",
       "    <tr>\n",
       "      <th>3</th>\n",
       "      <td>Anguilla</td>\n",
       "      <td>-63.064989</td>\n",
       "      <td>18.223959</td>\n",
       "    </tr>\n",
       "    <tr>\n",
       "      <th>4</th>\n",
       "      <td>Albania</td>\n",
       "      <td>20.049834</td>\n",
       "      <td>41.142450</td>\n",
       "    </tr>\n",
       "    <tr>\n",
       "      <th>...</th>\n",
       "      <td>...</td>\n",
       "      <td>...</td>\n",
       "      <td>...</td>\n",
       "    </tr>\n",
       "    <tr>\n",
       "      <th>236</th>\n",
       "      <td>Samoa</td>\n",
       "      <td>-172.164851</td>\n",
       "      <td>-13.753243</td>\n",
       "    </tr>\n",
       "    <tr>\n",
       "      <th>237</th>\n",
       "      <td>Yemen</td>\n",
       "      <td>47.586762</td>\n",
       "      <td>15.909280</td>\n",
       "    </tr>\n",
       "    <tr>\n",
       "      <th>238</th>\n",
       "      <td>South Africa</td>\n",
       "      <td>25.083901</td>\n",
       "      <td>-29.000341</td>\n",
       "    </tr>\n",
       "    <tr>\n",
       "      <th>239</th>\n",
       "      <td>Zambia</td>\n",
       "      <td>27.774759</td>\n",
       "      <td>-13.458242</td>\n",
       "    </tr>\n",
       "    <tr>\n",
       "      <th>240</th>\n",
       "      <td>Zimbabwe</td>\n",
       "      <td>29.851441</td>\n",
       "      <td>-19.004204</td>\n",
       "    </tr>\n",
       "  </tbody>\n",
       "</table>\n",
       "<p>241 rows × 3 columns</p>\n",
       "</div>"
      ],
      "text/plain": [
       "             name   Longitude   Latitude\n",
       "0           Aruba  -69.982677  12.520880\n",
       "1     Afghanistan   66.004734  33.835231\n",
       "2          Angola   17.537368 -12.293361\n",
       "3        Anguilla  -63.064989  18.223959\n",
       "4         Albania   20.049834  41.142450\n",
       "..            ...         ...        ...\n",
       "236         Samoa -172.164851 -13.753243\n",
       "237         Yemen   47.586762  15.909280\n",
       "238  South Africa   25.083901 -29.000341\n",
       "239        Zambia   27.774759 -13.458242\n",
       "240      Zimbabwe   29.851441 -19.004204\n",
       "\n",
       "[241 rows x 3 columns]"
      ]
     },
     "execution_count": 3,
     "metadata": {},
     "output_type": "execute_result"
    }
   ],
   "source": [
    "data = pd.read_csv('/kaggle/input/country-exercise-csv/Countries-exercise.csv')\n",
    "data"
   ]
  },
  {
   "cell_type": "code",
   "execution_count": 4,
   "id": "a84925cb",
   "metadata": {
    "execution": {
     "iopub.execute_input": "2025-08-31T14:18:12.841413Z",
     "iopub.status.busy": "2025-08-31T14:18:12.841119Z",
     "iopub.status.idle": "2025-08-31T14:18:12.850366Z",
     "shell.execute_reply": "2025-08-31T14:18:12.849557Z"
    },
    "papermill": {
     "duration": 0.014782,
     "end_time": "2025-08-31T14:18:12.851663",
     "exception": false,
     "start_time": "2025-08-31T14:18:12.836881",
     "status": "completed"
    },
    "tags": []
   },
   "outputs": [
    {
     "data": {
      "text/html": [
       "<div>\n",
       "<style scoped>\n",
       "    .dataframe tbody tr th:only-of-type {\n",
       "        vertical-align: middle;\n",
       "    }\n",
       "\n",
       "    .dataframe tbody tr th {\n",
       "        vertical-align: top;\n",
       "    }\n",
       "\n",
       "    .dataframe thead th {\n",
       "        text-align: right;\n",
       "    }\n",
       "</style>\n",
       "<table border=\"1\" class=\"dataframe\">\n",
       "  <thead>\n",
       "    <tr style=\"text-align: right;\">\n",
       "      <th></th>\n",
       "      <th>name</th>\n",
       "      <th>Longitude</th>\n",
       "      <th>Latitude</th>\n",
       "    </tr>\n",
       "  </thead>\n",
       "  <tbody>\n",
       "    <tr>\n",
       "      <th>0</th>\n",
       "      <td>Aruba</td>\n",
       "      <td>-69.982677</td>\n",
       "      <td>12.520880</td>\n",
       "    </tr>\n",
       "    <tr>\n",
       "      <th>1</th>\n",
       "      <td>Afghanistan</td>\n",
       "      <td>66.004734</td>\n",
       "      <td>33.835231</td>\n",
       "    </tr>\n",
       "    <tr>\n",
       "      <th>2</th>\n",
       "      <td>Angola</td>\n",
       "      <td>17.537368</td>\n",
       "      <td>-12.293361</td>\n",
       "    </tr>\n",
       "    <tr>\n",
       "      <th>3</th>\n",
       "      <td>Anguilla</td>\n",
       "      <td>-63.064989</td>\n",
       "      <td>18.223959</td>\n",
       "    </tr>\n",
       "    <tr>\n",
       "      <th>4</th>\n",
       "      <td>Albania</td>\n",
       "      <td>20.049834</td>\n",
       "      <td>41.142450</td>\n",
       "    </tr>\n",
       "  </tbody>\n",
       "</table>\n",
       "</div>"
      ],
      "text/plain": [
       "          name  Longitude   Latitude\n",
       "0        Aruba -69.982677  12.520880\n",
       "1  Afghanistan  66.004734  33.835231\n",
       "2       Angola  17.537368 -12.293361\n",
       "3     Anguilla -63.064989  18.223959\n",
       "4      Albania  20.049834  41.142450"
      ]
     },
     "execution_count": 4,
     "metadata": {},
     "output_type": "execute_result"
    }
   ],
   "source": [
    "data.head()"
   ]
  },
  {
   "cell_type": "code",
   "execution_count": 5,
   "id": "eb834f86",
   "metadata": {
    "execution": {
     "iopub.execute_input": "2025-08-31T14:18:12.860203Z",
     "iopub.status.busy": "2025-08-31T14:18:12.859669Z",
     "iopub.status.idle": "2025-08-31T14:18:12.876397Z",
     "shell.execute_reply": "2025-08-31T14:18:12.875591Z"
    },
    "papermill": {
     "duration": 0.022408,
     "end_time": "2025-08-31T14:18:12.877788",
     "exception": false,
     "start_time": "2025-08-31T14:18:12.855380",
     "status": "completed"
    },
    "tags": []
   },
   "outputs": [
    {
     "data": {
      "text/html": [
       "<div>\n",
       "<style scoped>\n",
       "    .dataframe tbody tr th:only-of-type {\n",
       "        vertical-align: middle;\n",
       "    }\n",
       "\n",
       "    .dataframe tbody tr th {\n",
       "        vertical-align: top;\n",
       "    }\n",
       "\n",
       "    .dataframe thead th {\n",
       "        text-align: right;\n",
       "    }\n",
       "</style>\n",
       "<table border=\"1\" class=\"dataframe\">\n",
       "  <thead>\n",
       "    <tr style=\"text-align: right;\">\n",
       "      <th></th>\n",
       "      <th>Longitude</th>\n",
       "      <th>Latitude</th>\n",
       "    </tr>\n",
       "  </thead>\n",
       "  <tbody>\n",
       "    <tr>\n",
       "      <th>count</th>\n",
       "      <td>241.000000</td>\n",
       "      <td>241.000000</td>\n",
       "    </tr>\n",
       "    <tr>\n",
       "      <th>mean</th>\n",
       "      <td>14.215380</td>\n",
       "      <td>17.169377</td>\n",
       "    </tr>\n",
       "    <tr>\n",
       "      <th>std</th>\n",
       "      <td>72.013654</td>\n",
       "      <td>26.554014</td>\n",
       "    </tr>\n",
       "    <tr>\n",
       "      <th>min</th>\n",
       "      <td>-177.348348</td>\n",
       "      <td>-80.508579</td>\n",
       "    </tr>\n",
       "    <tr>\n",
       "      <th>25%</th>\n",
       "      <td>-36.433184</td>\n",
       "      <td>1.358761</td>\n",
       "    </tr>\n",
       "    <tr>\n",
       "      <th>50%</th>\n",
       "      <td>18.644925</td>\n",
       "      <td>17.277500</td>\n",
       "    </tr>\n",
       "    <tr>\n",
       "      <th>75%</th>\n",
       "      <td>47.587005</td>\n",
       "      <td>39.115541</td>\n",
       "    </tr>\n",
       "    <tr>\n",
       "      <th>max</th>\n",
       "      <td>171.484924</td>\n",
       "      <td>74.710513</td>\n",
       "    </tr>\n",
       "  </tbody>\n",
       "</table>\n",
       "</div>"
      ],
      "text/plain": [
       "        Longitude    Latitude\n",
       "count  241.000000  241.000000\n",
       "mean    14.215380   17.169377\n",
       "std     72.013654   26.554014\n",
       "min   -177.348348  -80.508579\n",
       "25%    -36.433184    1.358761\n",
       "50%     18.644925   17.277500\n",
       "75%     47.587005   39.115541\n",
       "max    171.484924   74.710513"
      ]
     },
     "execution_count": 5,
     "metadata": {},
     "output_type": "execute_result"
    }
   ],
   "source": [
    "data.describe()"
   ]
  },
  {
   "cell_type": "markdown",
   "id": "f22973a6",
   "metadata": {
    "papermill": {
     "duration": 0.003455,
     "end_time": "2025-08-31T14:18:12.885167",
     "exception": false,
     "start_time": "2025-08-31T14:18:12.881712",
     "status": "completed"
    },
    "tags": []
   },
   "source": [
    "# Plot the data"
   ]
  },
  {
   "cell_type": "code",
   "execution_count": 6,
   "id": "75410dce",
   "metadata": {
    "execution": {
     "iopub.execute_input": "2025-08-31T14:18:12.894024Z",
     "iopub.status.busy": "2025-08-31T14:18:12.893250Z",
     "iopub.status.idle": "2025-08-31T14:18:13.154950Z",
     "shell.execute_reply": "2025-08-31T14:18:13.154126Z"
    },
    "papermill": {
     "duration": 0.267546,
     "end_time": "2025-08-31T14:18:13.156405",
     "exception": false,
     "start_time": "2025-08-31T14:18:12.888859",
     "status": "completed"
    },
    "tags": []
   },
   "outputs": [
    {
     "data": {
      "image/png": "[encoded data removed]",
      "text/plain": [
       "<Figure size 640x480 with 1 Axes>"
      ]
     },
     "metadata": {},
     "output_type": "display_data"
    }
   ],
   "source": [
    "plt.scatter(data['Longitude'], data['Latitude'])\n",
    "plt.xlim(-180, 180)\n",
    "plt.ylim(-90, 90)\n",
    "plt.show()"
   ]
  },
  {
   "cell_type": "markdown",
   "id": "ae2bfe55",
   "metadata": {
    "papermill": {
     "duration": 0.003849,
     "end_time": "2025-08-31T14:18:13.164577",
     "exception": false,
     "start_time": "2025-08-31T14:18:13.160728",
     "status": "completed"
    },
    "tags": []
   },
   "source": [
    "# Select the feature"
   ]
  },
  {
   "cell_type": "code",
   "execution_count": 7,
   "id": "b3995c9c",
   "metadata": {
    "execution": {
     "iopub.execute_input": "2025-08-31T14:18:13.174797Z",
     "iopub.status.busy": "2025-08-31T14:18:13.174437Z",
     "iopub.status.idle": "2025-08-31T14:18:13.184519Z",
     "shell.execute_reply": "2025-08-31T14:18:13.183808Z"
    },
    "papermill": {
     "duration": 0.01627,
     "end_time": "2025-08-31T14:18:13.185824",
     "exception": false,
     "start_time": "2025-08-31T14:18:13.169554",
     "status": "completed"
    },
    "tags": []
   },
   "outputs": [
    {
     "data": {
      "text/html": [
       "<div>\n",
       "<style scoped>\n",
       "    .dataframe tbody tr th:only-of-type {\n",
       "        vertical-align: middle;\n",
       "    }\n",
       "\n",
       "    .dataframe tbody tr th {\n",
       "        vertical-align: top;\n",
       "    }\n",
       "\n",
       "    .dataframe thead th {\n",
       "        text-align: right;\n",
       "    }\n",
       "</style>\n",
       "<table border=\"1\" class=\"dataframe\">\n",
       "  <thead>\n",
       "    <tr style=\"text-align: right;\">\n",
       "      <th></th>\n",
       "      <th>Longitude</th>\n",
       "      <th>Latitude</th>\n",
       "    </tr>\n",
       "  </thead>\n",
       "  <tbody>\n",
       "    <tr>\n",
       "      <th>0</th>\n",
       "      <td>-69.982677</td>\n",
       "      <td>12.520880</td>\n",
       "    </tr>\n",
       "    <tr>\n",
       "      <th>1</th>\n",
       "      <td>66.004734</td>\n",
       "      <td>33.835231</td>\n",
       "    </tr>\n",
       "    <tr>\n",
       "      <th>2</th>\n",
       "      <td>17.537368</td>\n",
       "      <td>-12.293361</td>\n",
       "    </tr>\n",
       "    <tr>\n",
       "      <th>3</th>\n",
       "      <td>-63.064989</td>\n",
       "      <td>18.223959</td>\n",
       "    </tr>\n",
       "    <tr>\n",
       "      <th>4</th>\n",
       "      <td>20.049834</td>\n",
       "      <td>41.142450</td>\n",
       "    </tr>\n",
       "    <tr>\n",
       "      <th>...</th>\n",
       "      <td>...</td>\n",
       "      <td>...</td>\n",
       "    </tr>\n",
       "    <tr>\n",
       "      <th>236</th>\n",
       "      <td>-172.164851</td>\n",
       "      <td>-13.753243</td>\n",
       "    </tr>\n",
       "    <tr>\n",
       "      <th>237</th>\n",
       "      <td>47.586762</td>\n",
       "      <td>15.909280</td>\n",
       "    </tr>\n",
       "    <tr>\n",
       "      <th>238</th>\n",
       "      <td>25.083901</td>\n",
       "      <td>-29.000341</td>\n",
       "    </tr>\n",
       "    <tr>\n",
       "      <th>239</th>\n",
       "      <td>27.774759</td>\n",
       "      <td>-13.458242</td>\n",
       "    </tr>\n",
       "    <tr>\n",
       "      <th>240</th>\n",
       "      <td>29.851441</td>\n",
       "      <td>-19.004204</td>\n",
       "    </tr>\n",
       "  </tbody>\n",
       "</table>\n",
       "<p>241 rows × 2 columns</p>\n",
       "</div>"
      ],
      "text/plain": [
       "      Longitude   Latitude\n",
       "0    -69.982677  12.520880\n",
       "1     66.004734  33.835231\n",
       "2     17.537368 -12.293361\n",
       "3    -63.064989  18.223959\n",
       "4     20.049834  41.142450\n",
       "..          ...        ...\n",
       "236 -172.164851 -13.753243\n",
       "237   47.586762  15.909280\n",
       "238   25.083901 -29.000341\n",
       "239   27.774759 -13.458242\n",
       "240   29.851441 -19.004204\n",
       "\n",
       "[241 rows x 2 columns]"
      ]
     },
     "execution_count": 7,
     "metadata": {},
     "output_type": "execute_result"
    }
   ],
   "source": [
    "x = data.iloc[:, 1:3]\n",
    "x"
   ]
  },
  {
   "cell_type": "markdown",
   "id": "5eb3dc23",
   "metadata": {
    "papermill": {
     "duration": 0.00398,
     "end_time": "2025-08-31T14:18:13.194185",
     "exception": false,
     "start_time": "2025-08-31T14:18:13.190205",
     "status": "completed"
    },
    "tags": []
   },
   "source": [
    "# Clustering"
   ]
  },
  {
   "cell_type": "code",
   "execution_count": 8,
   "id": "01e35674",
   "metadata": {
    "execution": {
     "iopub.execute_input": "2025-08-31T14:18:13.203819Z",
     "iopub.status.busy": "2025-08-31T14:18:13.203383Z",
     "iopub.status.idle": "2025-08-31T14:18:13.207659Z",
     "shell.execute_reply": "2025-08-31T14:18:13.206851Z"
    },
    "papermill": {
     "duration": 0.010722,
     "end_time": "2025-08-31T14:18:13.209061",
     "exception": false,
     "start_time": "2025-08-31T14:18:13.198339",
     "status": "completed"
    },
    "tags": []
   },
   "outputs": [],
   "source": [
    "kmeans = KMeans(7)"
   ]
  },
  {
   "cell_type": "code",
   "execution_count": 9,
   "id": "7d050528",
   "metadata": {
    "execution": {
     "iopub.execute_input": "2025-08-31T14:18:13.218628Z",
     "iopub.status.busy": "2025-08-31T14:18:13.218306Z",
     "iopub.status.idle": "2025-08-31T14:18:13.296319Z",
     "shell.execute_reply": "2025-08-31T14:18:13.295463Z"
    },
    "papermill": {
     "duration": 0.084196,
     "end_time": "2025-08-31T14:18:13.297585",
     "exception": false,
     "start_time": "2025-08-31T14:18:13.213389",
     "status": "completed"
    },
    "tags": []
   },
   "outputs": [
    {
     "name": "stderr",
     "output_type": "stream",
     "text": [
      "/usr/local/lib/python3.11/dist-packages/sklearn/cluster/_kmeans.py:870: FutureWarning: The default value of `n_init` will change from 10 to 'auto' in 1.4. Set the value of `n_init` explicitly to suppress the warning\n",
      "  warnings.warn(\n"
     ]
    },
    {
     "data": {
      "text/html": [
       "<style>#sk-container-id-1 {color: black;background-color: white;}#sk-container-id-1 pre{padding: 0;}#sk-container-id-1 div.sk-toggleable {background-color: white;}#sk-container-id-1 label.sk-toggleable__label {cursor: pointer;display: block;width: 100%;margin-bottom: 0;padding: 0.3em;box-sizing: border-box;text-align: center;}#sk-container-id-1 label.sk-toggleable__label-arrow:before {content: \"▸\";float: left;margin-right: 0.25em;color: #696969;}#sk-container-id-1 label.sk-toggleable__label-arrow:hover:before {color: black;}#sk-container-id-1 div.sk-estimator:hover label.sk-toggleable__label-arrow:before {color: black;}#sk-container-id-1 div.sk-toggleable__content {max-height: 0;max-width: 0;overflow: hidden;text-align: left;background-color: #f0f8ff;}#sk-container-id-1 div.sk-toggleable__content pre {margin: 0.2em;color: black;border-radius: 0.25em;background-color: #f0f8ff;}#sk-container-id-1 input.sk-toggleable__control:checked~div.sk-toggleable__content {max-height: 200px;max-width: 100%;overflow: auto;}#sk-container-id-1 input.sk-toggleable__control:checked~label.sk-toggleable__label-arrow:before {content: \"▾\";}#sk-container-id-1 div.sk-estimator input.sk-toggleable__control:checked~label.sk-toggleable__label {background-color: #d4ebff;}#sk-container-id-1 div.sk-label input.sk-toggleable__control:checked~label.sk-toggleable__label {background-color: #d4ebff;}#sk-container-id-1 input.sk-hidden--visually {border: 0;clip: rect(1px 1px 1px 1px);clip: rect(1px, 1px, 1px, 1px);height: 1px;margin: -1px;overflow: hidden;padding: 0;position: absolute;width: 1px;}#sk-container-id-1 div.sk-estimator {font-family: monospace;background-color: #f0f8ff;border: 1px dotted black;border-radius: 0.25em;box-sizing: border-box;margin-bottom: 0.5em;}#sk-container-id-1 div.sk-estimator:hover {background-color: #d4ebff;}#sk-container-id-1 div.sk-parallel-item::after {content: \"\";width: 100%;border-bottom: 1px solid gray;flex-grow: 1;}#sk-container-id-1 div.sk-label:hover label.sk-toggleable__label {background-color: #d4ebff;}#sk-container-id-1 div.sk-serial::before {content: \"\";position: absolute;border-left: 1px solid gray;box-sizing: border-box;top: 0;bottom: 0;left: 50%;z-index: 0;}#sk-container-id-1 div.sk-serial {display: flex;flex-direction: column;align-items: center;background-color: white;padding-right: 0.2em;padding-left: 0.2em;position: relative;}#sk-container-id-1 div.sk-item {position: relative;z-index: 1;}#sk-container-id-1 div.sk-parallel {display: flex;align-items: stretch;justify-content: center;background-color: white;position: relative;}#sk-container-id-1 div.sk-item::before, #sk-container-id-1 div.sk-parallel-item::before {content: \"\";position: absolute;border-left: 1px solid gray;box-sizing: border-box;top: 0;bottom: 0;left: 50%;z-index: -1;}#sk-container-id-1 div.sk-parallel-item {display: flex;flex-direction: column;z-index: 1;position: relative;background-color: white;}#sk-container-id-1 div.sk-parallel-item:first-child::after {align-self: flex-end;width: 50%;}#sk-container-id-1 div.sk-parallel-item:last-child::after {align-self: flex-start;width: 50%;}#sk-container-id-1 div.sk-parallel-item:only-child::after {width: 0;}#sk-container-id-1 div.sk-dashed-wrapped {border: 1px dashed gray;margin: 0 0.4em 0.5em 0.4em;box-sizing: border-box;padding-bottom: 0.4em;background-color: white;}#sk-container-id-1 div.sk-label label {font-family: monospace;font-weight: bold;display: inline-block;line-height: 1.2em;}#sk-container-id-1 div.sk-label-container {text-align: center;}#sk-container-id-1 div.sk-container {/* jupyter's `normalize.less` sets `[hidden] { display: none; }` but bootstrap.min.css set `[hidden] { display: none !important; }` so we also need the `!important` here to be able to override the default hidden behavior on the sphinx rendered scikit-learn.org. See: https://github.com/scikit-learn/scikit-learn/issues/21755 */display: inline-block !important;position: relative;}#sk-container-id-1 div.sk-text-repr-fallback {display: none;}</style><div id=\"sk-container-id-1\" class=\"sk-top-container\"><div class=\"sk-text-repr-fallback\"><pre>KMeans(n_clusters=7)</pre><b>In a Jupyter environment, please rerun this cell to show the HTML representation or trust the notebook. <br />On GitHub, the HTML representation is unable to render, please try loading this page with nbviewer.org.</b></div><div class=\"sk-container\" hidden><div class=\"sk-item\"><div class=\"sk-estimator sk-toggleable\"><input class=\"sk-toggleable__control sk-hidden--visually\" id=\"sk-estimator-id-1\" type=\"checkbox\" checked><label for=\"sk-estimator-id-1\" class=\"sk-toggleable__label sk-toggleable__label-arrow\">KMeans</label><div class=\"sk-toggleable__content\"><pre>KMeans(n_clusters=7)</pre></div></div></div></div></div>"
      ],
      "text/plain": [
       "KMeans(n_clusters=7)"
      ]
     },
     "execution_count": 9,
     "metadata": {},
     "output_type": "execute_result"
    }
   ],
   "source": [
    "kmeans.fit(x)"
   ]
  },
  {
   "cell_type": "markdown",
   "id": "82c8563b",
   "metadata": {
    "papermill": {
     "duration": 0.004098,
     "end_time": "2025-08-31T14:18:13.306492",
     "exception": false,
     "start_time": "2025-08-31T14:18:13.302394",
     "status": "completed"
    },
    "tags": []
   },
   "source": [
    "# Clustering Results"
   ]
  },
  {
   "cell_type": "code",
   "execution_count": 10,
   "id": "472f68b3",
   "metadata": {
    "execution": {
     "iopub.execute_input": "2025-08-31T14:18:13.316371Z",
     "iopub.status.busy": "2025-08-31T14:18:13.316088Z",
     "iopub.status.idle": "2025-08-31T14:18:13.343378Z",
     "shell.execute_reply": "2025-08-31T14:18:13.341003Z"
    },
    "papermill": {
     "duration": 0.033758,
     "end_time": "2025-08-31T14:18:13.344681",
     "exception": false,
     "start_time": "2025-08-31T14:18:13.310923",
     "status": "completed"
    },
    "tags": []
   },
   "outputs": [
    {
     "name": "stderr",
     "output_type": "stream",
     "text": [
      "/usr/local/lib/python3.11/dist-packages/sklearn/cluster/_kmeans.py:870: FutureWarning: The default value of `n_init` will change from 10 to 'auto' in 1.4. Set the value of `n_init` explicitly to suppress the warning\n",
      "  warnings.warn(\n"
     ]
    },
    {
     "data": {
      "text/plain": [
       "array([1, 6, 3, 1, 0, 0, 0, 6, 1, 0, 4, 3, 2, 3, 1, 2, 0, 0, 3, 0, 5, 5,\n",
       "       6, 0, 6, 1, 1, 0, 1, 0, 1, 1, 1, 1, 1, 2, 6, 3, 5, 0, 1, 6, 5, 5,\n",
       "       3, 5, 4, 1, 3, 5, 1, 1, 1, 1, 0, 0, 0, 0, 3, 1, 0, 1, 5, 1, 0, 3,\n",
       "       0, 0, 3, 0, 2, 1, 0, 0, 2, 5, 0, 0, 0, 5, 5, 5, 5, 5, 0, 1, 0, 1,\n",
       "       2, 1, 2, 3, 1, 0, 1, 0, 2, 0, 6, 2, 6, 0, 6, 0, 0, 0, 0, 1, 0, 0,\n",
       "       2, 6, 6, 3, 6, 6, 1, 1, 2, 0, 6, 6, 0, 5, 0, 1, 0, 6, 3, 0, 0, 0,\n",
       "       2, 1, 5, 0, 0, 3, 6, 1, 2, 0, 5, 0, 6, 0, 6, 2, 3, 5, 1, 3, 3, 2,\n",
       "       3, 2, 5, 2, 5, 1, 4, 0, 0, 6, 2, 2, 6, 6, 1, 4, 1, 2, 2, 2, 0, 1,\n",
       "       2, 0, 1, 0, 4, 6, 0, 6, 3, 5, 6, 3, 3, 5, 2, 1, 5, 2, 5, 1, 0, 3,\n",
       "       3, 1, 0, 5, 1, 0, 0, 0, 3, 1, 3, 0, 1, 5, 5, 6, 6, 6, 2, 4, 1, 0,\n",
       "       0, 2, 3, 3, 0, 1, 1, 6, 0, 1, 1, 1, 1, 6, 2, 4, 4, 3, 3, 3, 3],\n",
       "      dtype=int32)"
      ]
     },
     "execution_count": 10,
     "metadata": {},
     "output_type": "execute_result"
    }
   ],
   "source": [
    "identified_clusters = kmeans.fit_predict(x)\n",
    "identified_clusters"
   ]
  },
  {
   "cell_type": "code",
   "execution_count": 11,
   "id": "61d11019",
   "metadata": {
    "execution": {
     "iopub.execute_input": "2025-08-31T14:18:13.355543Z",
     "iopub.status.busy": "2025-08-31T14:18:13.354815Z",
     "iopub.status.idle": "2025-08-31T14:18:13.367647Z",
     "shell.execute_reply": "2025-08-31T14:18:13.366842Z"
    },
    "papermill": {
     "duration": 0.019537,
     "end_time": "2025-08-31T14:18:13.368947",
     "exception": false,
     "start_time": "2025-08-31T14:18:13.349410",
     "status": "completed"
    },
    "tags": []
   },
   "outputs": [
    {
     "data": {
      "text/html": [
       "<div>\n",
       "<style scoped>\n",
       "    .dataframe tbody tr th:only-of-type {\n",
       "        vertical-align: middle;\n",
       "    }\n",
       "\n",
       "    .dataframe tbody tr th {\n",
       "        vertical-align: top;\n",
       "    }\n",
       "\n",
       "    .dataframe thead th {\n",
       "        text-align: right;\n",
       "    }\n",
       "</style>\n",
       "<table border=\"1\" class=\"dataframe\">\n",
       "  <thead>\n",
       "    <tr style=\"text-align: right;\">\n",
       "      <th></th>\n",
       "      <th>name</th>\n",
       "      <th>Longitude</th>\n",
       "      <th>Latitude</th>\n",
       "      <th>Cluster</th>\n",
       "    </tr>\n",
       "  </thead>\n",
       "  <tbody>\n",
       "    <tr>\n",
       "      <th>0</th>\n",
       "      <td>Aruba</td>\n",
       "      <td>-69.982677</td>\n",
       "      <td>12.520880</td>\n",
       "      <td>1</td>\n",
       "    </tr>\n",
       "    <tr>\n",
       "      <th>1</th>\n",
       "      <td>Afghanistan</td>\n",
       "      <td>66.004734</td>\n",
       "      <td>33.835231</td>\n",
       "      <td>6</td>\n",
       "    </tr>\n",
       "    <tr>\n",
       "      <th>2</th>\n",
       "      <td>Angola</td>\n",
       "      <td>17.537368</td>\n",
       "      <td>-12.293361</td>\n",
       "      <td>3</td>\n",
       "    </tr>\n",
       "    <tr>\n",
       "      <th>3</th>\n",
       "      <td>Anguilla</td>\n",
       "      <td>-63.064989</td>\n",
       "      <td>18.223959</td>\n",
       "      <td>1</td>\n",
       "    </tr>\n",
       "    <tr>\n",
       "      <th>4</th>\n",
       "      <td>Albania</td>\n",
       "      <td>20.049834</td>\n",
       "      <td>41.142450</td>\n",
       "      <td>0</td>\n",
       "    </tr>\n",
       "    <tr>\n",
       "      <th>...</th>\n",
       "      <td>...</td>\n",
       "      <td>...</td>\n",
       "      <td>...</td>\n",
       "      <td>...</td>\n",
       "    </tr>\n",
       "    <tr>\n",
       "      <th>236</th>\n",
       "      <td>Samoa</td>\n",
       "      <td>-172.164851</td>\n",
       "      <td>-13.753243</td>\n",
       "      <td>4</td>\n",
       "    </tr>\n",
       "    <tr>\n",
       "      <th>237</th>\n",
       "      <td>Yemen</td>\n",
       "      <td>47.586762</td>\n",
       "      <td>15.909280</td>\n",
       "      <td>3</td>\n",
       "    </tr>\n",
       "    <tr>\n",
       "      <th>238</th>\n",
       "      <td>South Africa</td>\n",
       "      <td>25.083901</td>\n",
       "      <td>-29.000341</td>\n",
       "      <td>3</td>\n",
       "    </tr>\n",
       "    <tr>\n",
       "      <th>239</th>\n",
       "      <td>Zambia</td>\n",
       "      <td>27.774759</td>\n",
       "      <td>-13.458242</td>\n",
       "      <td>3</td>\n",
       "    </tr>\n",
       "    <tr>\n",
       "      <th>240</th>\n",
       "      <td>Zimbabwe</td>\n",
       "      <td>29.851441</td>\n",
       "      <td>-19.004204</td>\n",
       "      <td>3</td>\n",
       "    </tr>\n",
       "  </tbody>\n",
       "</table>\n",
       "<p>241 rows × 4 columns</p>\n",
       "</div>"
      ],
      "text/plain": [
       "             name   Longitude   Latitude  Cluster\n",
       "0           Aruba  -69.982677  12.520880        1\n",
       "1     Afghanistan   66.004734  33.835231        6\n",
       "2          Angola   17.537368 -12.293361        3\n",
       "3        Anguilla  -63.064989  18.223959        1\n",
       "4         Albania   20.049834  41.142450        0\n",
       "..            ...         ...        ...      ...\n",
       "236         Samoa -172.164851 -13.753243        4\n",
       "237         Yemen   47.586762  15.909280        3\n",
       "238  South Africa   25.083901 -29.000341        3\n",
       "239        Zambia   27.774759 -13.458242        3\n",
       "240      Zimbabwe   29.851441 -19.004204        3\n",
       "\n",
       "[241 rows x 4 columns]"
      ]
     },
     "execution_count": 11,
     "metadata": {},
     "output_type": "execute_result"
    }
   ],
   "source": [
    "data_with_clusters = data.copy()\n",
    "data_with_clusters['Cluster'] = identified_clusters\n",
    "data_with_clusters"
   ]
  },
  {
   "cell_type": "code",
   "execution_count": 12,
   "id": "e9ea14ec",
   "metadata": {
    "execution": {
     "iopub.execute_input": "2025-08-31T14:18:13.380243Z",
     "iopub.status.busy": "2025-08-31T14:18:13.379448Z",
     "iopub.status.idle": "2025-08-31T14:18:13.540115Z",
     "shell.execute_reply": "2025-08-31T14:18:13.539243Z"
    },
    "papermill": {
     "duration": 0.167694,
     "end_time": "2025-08-31T14:18:13.541572",
     "exception": false,
     "start_time": "2025-08-31T14:18:13.373878",
     "status": "completed"
    },
    "tags": []
   },
   "outputs": [
    {
     "data": {
      "image/png": "[encoded data removed]",
      "text/plain": [
       "<Figure size 640x480 with 1 Axes>"
      ]
     },
     "metadata": {},
     "output_type": "display_data"
    }
   ],
   "source": [
    "plt.scatter(data_with_clusters['Longitude'],data_with_clusters['Latitude'],c=data_with_clusters['Cluster'],cmap='rainbow')\n",
    "plt.xlim(-180,180)\n",
    "plt.ylim(-90,90)\n",
    "plt.show()"
   ]
  }
 ],
 "metadata": {
  "kaggle": {
   "accelerator": "none",
   "dataSources": [
    {
     "datasetId": 8177058,
     "sourceId": 12922639,
     "sourceType": "datasetVersion"
    }
   ],
   "dockerImageVersionId": 31089,
   "isGpuEnabled": false,
   "isInternetEnabled": false,
   "language": "python",
   "sourceType": "notebook"
  },
  "kernelspec": {
   "display_name": "Python 3",
   "language": "python",
   "name": "python3"
  },
  "language_info": {
   "codemirror_mode": {
    "name": "ipython",
    "version": 3
   },
   "file_extension": ".py",
   "mimetype": "text/x-python",
   "name": "python",
   "nbconvert_exporter": "python",
   "pygments_lexer": "ipython3",
   "version": "3.11.13"
  },
  "papermill": {
   "default_parameters": {},
   "duration": 10.976913,
   "end_time": "2025-08-31T14:18:14.267449",
   "environment_variables": {},
   "exception": null,
   "input_path": "__notebook__.ipynb",
   "output_path": "__notebook__.ipynb",
   "parameters": {},
   "start_time": "2025-08-31T14:18:03.290536",
   "version": "2.6.0"
  }
 },
 "nbformat": 4,
 "nbformat_minor": 5
}
